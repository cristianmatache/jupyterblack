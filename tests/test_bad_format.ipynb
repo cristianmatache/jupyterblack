{
 "cells": [
  {
   "cell_type": "code",
   "execution_count": null,
   "metadata": {},
   "outputs": [],
   "source": [
    "def my_sum(x: int, y: int, *,\n",
    "           is_weird: bool = False, msg: str = '') -> int:\n",
    "    print(f'my sum {msg}')\n",
    "    return x + y + (1 if is_weird else 0)"
   ]
  },
  {
   "cell_type": "code",
   "execution_count": null,
   "metadata": {},
   "outputs": [],
   "source": [
    "my_sum(\n",
    "    1, 2, is_weird=True)"
   ]
  }
 ],
 "metadata": {
  "kernelspec": {
   "display_name": "Python 3",
   "language": "python",
   "name": "python3"
  }
 },
 "nbformat": 4,
 "nbformat_minor": 4
}
